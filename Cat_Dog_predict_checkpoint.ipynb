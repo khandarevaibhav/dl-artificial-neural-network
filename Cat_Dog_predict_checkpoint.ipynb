{
 "cells": [
  {
   "cell_type": "code",
   "execution_count": 1,
   "id": "eb7df3fb",
   "metadata": {},
   "outputs": [],
   "source": []
  },
  {
   "cell_type": "code",
   "execution_count": null,
   "id": "26c21dfc",
   "metadata": {},
   "outputs": [],
   "source": [
    "from  keras.models import load_model\n"
   ]
  },
  {
   "cell_type": "code",
   "execution_count": 2,
   "id": "9e0b24fd",
   "metadata": {},
   "outputs": [],
   "source": [
    "model = load_model('cat_dog_cnn.h5')"
   ]
  },
  {
   "cell_type": "code",
   "execution_count": 3,
   "id": "270d360a",
   "metadata": {},
   "outputs": [],
   "source": [
    "from  keras.preprocessing  import image"
   ]
  },
  {
   "cell_type": "code",
   "execution_count": 5,
   "id": "eef741e6",
   "metadata": {},
   "outputs": [],
   "source": [
    "test_img = image.load_img('dog.4132.jpg')"
   ]
  },
  {
   "cell_type": "code",
   "execution_count": null,
   "id": "ebd7712b",
   "metadata": {},
   "outputs": [],
   "source": []
  },
  {
   "cell_type": "code",
   "execution_count": 6,
   "id": "db619185",
   "metadata": {},
   "outputs": [
    {
     "data": {
      "text/plain": [
       "PIL.JpegImagePlugin.JpegImageFile"
      ]
     },
     "execution_count": 6,
     "metadata": {},
     "output_type": "execute_result"
    }
   ],
   "source": [
    "type(test_img)"
   ]
  },
  {
   "cell_type": "code",
   "execution_count": 7,
   "id": "a2d6686f",
   "metadata": {},
   "outputs": [],
   "source": [
    "test_img_arr = image.img_to_array(test_img)"
   ]
  },
  {
   "cell_type": "code",
   "execution_count": 8,
   "id": "40adfd1b",
   "metadata": {},
   "outputs": [
    {
     "data": {
      "text/plain": [
       "numpy.ndarray"
      ]
     },
     "execution_count": 8,
     "metadata": {},
     "output_type": "execute_result"
    }
   ],
   "source": [
    "type(test_img_arr)"
   ]
  },
  {
   "cell_type": "code",
   "execution_count": 9,
   "id": "5575a0a3",
   "metadata": {},
   "outputs": [
    {
     "data": {
      "text/plain": [
       "(500, 433, 3)"
      ]
     },
     "execution_count": 9,
     "metadata": {},
     "output_type": "execute_result"
    }
   ],
   "source": [
    "test_img_arr.shape"
   ]
  },
  {
   "cell_type": "code",
   "execution_count": 10,
   "id": "be44495a",
   "metadata": {},
   "outputs": [],
   "source": [
    "test_img_arr = test_img_arr[0:64,0:64,:]"
   ]
  },
  {
   "cell_type": "code",
   "execution_count": 11,
   "id": "22fe8900",
   "metadata": {},
   "outputs": [
    {
     "data": {
      "text/plain": [
       "(64, 64, 3)"
      ]
     },
     "execution_count": 11,
     "metadata": {},
     "output_type": "execute_result"
    }
   ],
   "source": [
    "test_img_arr.shape"
   ]
  },
  {
   "cell_type": "code",
   "execution_count": 12,
   "id": "e9b8922f",
   "metadata": {},
   "outputs": [],
   "source": [
    "import numpy"
   ]
  },
  {
   "cell_type": "code",
   "execution_count": 13,
   "id": "d44f6603",
   "metadata": {},
   "outputs": [],
   "source": [
    "test_image_arr_4d   = numpy.expand_dims(test_img_arr, axis=0)"
   ]
  },
  {
   "cell_type": "code",
   "execution_count": 20,
   "id": "ceb9b21e",
   "metadata": {},
   "outputs": [
    {
     "data": {
      "text/plain": [
       "(1, 64, 64, 3)"
      ]
     },
     "execution_count": 20,
     "metadata": {},
     "output_type": "execute_result"
    }
   ],
   "source": [
    "test_image_arr_4d.shape"
   ]
  },
  {
   "cell_type": "code",
   "execution_count": 21,
   "id": "701e1303",
   "metadata": {},
   "outputs": [
    {
     "data": {
      "text/plain": [
       "array([[0.]], dtype=float32)"
      ]
     },
     "execution_count": 21,
     "metadata": {},
     "output_type": "execute_result"
    }
   ],
   "source": [
    "model.predict(test_image_arr_4d)"
   ]
  },
  {
   "cell_type": "code",
   "execution_count": 22,
   "id": "96681c42",
   "metadata": {},
   "outputs": [],
   "source": [
    "test_img2 = image.load_img('cat.12.jpg')"
   ]
  },
  {
   "cell_type": "code",
   "execution_count": 23,
   "id": "73c6c485",
   "metadata": {},
   "outputs": [],
   "source": [
    "test_img_arr2 = image.img_to_array(test_img)"
   ]
  },
  {
   "cell_type": "code",
   "execution_count": 24,
   "id": "2f6aef2b",
   "metadata": {},
   "outputs": [
    {
     "data": {
      "text/plain": [
       "numpy.ndarray"
      ]
     },
     "execution_count": 24,
     "metadata": {},
     "output_type": "execute_result"
    }
   ],
   "source": [
    "type(test_img_arr2)"
   ]
  },
  {
   "cell_type": "code",
   "execution_count": 25,
   "id": "09c5a191",
   "metadata": {},
   "outputs": [
    {
     "data": {
      "text/plain": [
       "(500, 433, 3)"
      ]
     },
     "execution_count": 25,
     "metadata": {},
     "output_type": "execute_result"
    }
   ],
   "source": [
    "test_img_arr2.shape"
   ]
  },
  {
   "cell_type": "code",
   "execution_count": 26,
   "id": "d5b2c0f7",
   "metadata": {},
   "outputs": [],
   "source": [
    "test_img_arr2 = test_img_arr[0:64,0:64,:]"
   ]
  },
  {
   "cell_type": "code",
   "execution_count": 27,
   "id": "e6c344ef",
   "metadata": {},
   "outputs": [
    {
     "data": {
      "text/plain": [
       "(64, 64, 3)"
      ]
     },
     "execution_count": 27,
     "metadata": {},
     "output_type": "execute_result"
    }
   ],
   "source": [
    "test_img_arr2.shape"
   ]
  },
  {
   "cell_type": "code",
   "execution_count": 28,
   "id": "a2294d58",
   "metadata": {},
   "outputs": [],
   "source": [
    "import numpy"
   ]
  },
  {
   "cell_type": "code",
   "execution_count": 29,
   "id": "1fd2a8a9",
   "metadata": {},
   "outputs": [],
   "source": [
    "test_image_arr_4dd   = numpy.expand_dims(test_img_arr2, axis=0)"
   ]
  },
  {
   "cell_type": "code",
   "execution_count": 30,
   "id": "5c7b5b3e",
   "metadata": {},
   "outputs": [
    {
     "data": {
      "text/plain": [
       "(1, 64, 64, 3)"
      ]
     },
     "execution_count": 30,
     "metadata": {},
     "output_type": "execute_result"
    }
   ],
   "source": [
    "test_image_arr_4dd.shape"
   ]
  },
  {
   "cell_type": "code",
   "execution_count": 31,
   "id": "14e5a416",
   "metadata": {},
   "outputs": [
    {
     "data": {
      "text/plain": [
       "array([[0.]], dtype=float32)"
      ]
     },
     "execution_count": 31,
     "metadata": {},
     "output_type": "execute_result"
    }
   ],
   "source": [
    "model.predict(test_image_arr_4dd)"
   ]
  },
  {
   "cell_type": "code",
   "execution_count": null,
   "id": "59ff64cc",
   "metadata": {},
   "outputs": [],
   "source": []
  },
  {
   "cell_type": "code",
   "execution_count": null,
   "id": "1f3c3c80",
   "metadata": {},
   "outputs": [],
   "source": []
  },
  {
   "cell_type": "code",
   "execution_count": null,
   "id": "347b7513",
   "metadata": {},
   "outputs": [],
   "source": []
  },
  {
   "cell_type": "code",
   "execution_count": null,
   "id": "66bcc261",
   "metadata": {},
   "outputs": [],
   "source": []
  },
  {
   "cell_type": "code",
   "execution_count": null,
   "id": "27b4caa9",
   "metadata": {},
   "outputs": [],
   "source": []
  },
  {
   "cell_type": "code",
   "execution_count": null,
   "id": "d579cf18",
   "metadata": {},
   "outputs": [],
   "source": []
  },
  {
   "cell_type": "code",
   "execution_count": null,
   "id": "e2c0a8c7",
   "metadata": {},
   "outputs": [],
   "source": []
  },
  {
   "cell_type": "code",
   "execution_count": null,
   "id": "52096cd9",
   "metadata": {},
   "outputs": [],
   "source": []
  },
  {
   "cell_type": "code",
   "execution_count": null,
   "id": "7410fcc3",
   "metadata": {},
   "outputs": [],
   "source": []
  },
  {
   "cell_type": "code",
   "execution_count": null,
   "id": "f5db2f2d",
   "metadata": {},
   "outputs": [],
   "source": []
  }
 ],
 "metadata": {
  "kernelspec": {
   "display_name": "Python 3 (ipykernel)",
   "language": "python",
   "name": "python3"
  },
  "language_info": {
   "codemirror_mode": {
    "name": "ipython",
    "version": 3
   },
   "file_extension": ".py",
   "mimetype": "text/x-python",
   "name": "python",
   "nbconvert_exporter": "python",
   "pygments_lexer": "ipython3",
   "version": "3.10.12"
  }
 },
 "nbformat": 4,
 "nbformat_minor": 5
}
